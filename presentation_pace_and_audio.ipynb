{
  "nbformat": 4,
  "nbformat_minor": 0,
  "metadata": {
    "colab": {
      "name": "presentation_pace_and_audio.ipynb",
      "provenance": [],
      "collapsed_sections": [],
      "toc_visible": true
    },
    "kernelspec": {
      "display_name": "Python 3",
      "name": "python3"
    }
  },
  "cells": [
    {
      "cell_type": "markdown",
      "metadata": {
        "id": "hxwl-rUS_c06"
      },
      "source": [
        ""
      ]
    },
    {
      "cell_type": "code",
      "metadata": {
        "id": "bDcQji-zX-ce",
        "colab": {
          "base_uri": "https://localhost:8080/"
        },
        "outputId": "28fe4f2d-de68-466a-d153-a0bad77ac568"
      },
      "source": [
        "from google.colab import drive\n",
        "drive.mount('/content/drive')"
      ],
      "execution_count": null,
      "outputs": [
        {
          "output_type": "stream",
          "text": [
            "Mounted at /content/drive\n"
          ],
          "name": "stdout"
        }
      ]
    },
    {
      "cell_type": "code",
      "metadata": {
        "colab": {
          "base_uri": "https://localhost:8080/"
        },
        "id": "JowsNgrY-U3q",
        "outputId": "a3e428e2-0e64-4906-b508-81039f80101f"
      },
      "source": [
        "cd 'drive/MyDrive/Grad project'"
      ],
      "execution_count": null,
      "outputs": [
        {
          "output_type": "stream",
          "text": [
            "/content/drive/MyDrive/Grad project\n"
          ],
          "name": "stdout"
        }
      ]
    },
    {
      "cell_type": "code",
      "metadata": {
        "id": "Lq-sGnlKWoWQ",
        "colab": {
          "base_uri": "https://localhost:8080/",
          "height": 390
        },
        "outputId": "680d388a-5971-4097-af4f-d48085f070af"
      },
      "source": [
        "pip install --upgrade pip setuptools wheel"
      ],
      "execution_count": null,
      "outputs": [
        {
          "output_type": "stream",
          "text": [
            "Collecting pip\n",
            "\u001b[?25l  Downloading https://files.pythonhosted.org/packages/cd/6f/43037c7bcc8bd8ba7c9074256b1a11596daa15555808ec748048c1507f08/pip-21.1.1-py3-none-any.whl (1.5MB)\n",
            "\u001b[K     |████████████████████████████████| 1.6MB 15.8MB/s \n",
            "\u001b[?25hCollecting setuptools\n",
            "\u001b[?25l  Downloading https://files.pythonhosted.org/packages/d0/15/5041473f5d142ee93bf1593deb8f932e27a078f6f04e2020cf44044f72c5/setuptools-56.2.0-py3-none-any.whl (785kB)\n",
            "\u001b[K     |████████████████████████████████| 788kB 53.0MB/s \n",
            "\u001b[?25hRequirement already up-to-date: wheel in /usr/local/lib/python3.7/dist-packages (0.36.2)\n",
            "\u001b[31mERROR: datascience 0.10.6 has requirement folium==0.2.1, but you'll have folium 0.8.3 which is incompatible.\u001b[0m\n",
            "Installing collected packages: pip, setuptools\n",
            "  Found existing installation: pip 19.3.1\n",
            "    Uninstalling pip-19.3.1:\n",
            "      Successfully uninstalled pip-19.3.1\n",
            "  Found existing installation: setuptools 56.1.0\n",
            "    Uninstalling setuptools-56.1.0:\n",
            "      Successfully uninstalled setuptools-56.1.0\n",
            "Successfully installed pip-21.1.1 setuptools-56.2.0\n"
          ],
          "name": "stdout"
        },
        {
          "output_type": "display_data",
          "data": {
            "application/vnd.colab-display-data+json": {
              "pip_warning": {
                "packages": [
                  "pkg_resources"
                ]
              }
            }
          },
          "metadata": {
            "tags": []
          }
        }
      ]
    },
    {
      "cell_type": "code",
      "metadata": {
        "id": "xRRCWU8tW5Ew",
        "colab": {
          "base_uri": "https://localhost:8080/"
        },
        "outputId": "c8cea2fd-fb71-4959-c691-c75097494dd5"
      },
      "source": [
        "!apt-get install -y swig libpulse-dev"
      ],
      "execution_count": null,
      "outputs": [
        {
          "output_type": "stream",
          "text": [
            "Reading package lists... Done\n",
            "Building dependency tree       \n",
            "Reading state information... Done\n",
            "The following package was automatically installed and is no longer required:\n",
            "  libnvidia-common-460\n",
            "Use 'apt autoremove' to remove it.\n",
            "The following additional packages will be installed:\n",
            "  libpulse-mainloop-glib0 swig3.0\n",
            "Suggested packages:\n",
            "  swig-doc swig-examples swig3.0-examples swig3.0-doc\n",
            "The following NEW packages will be installed:\n",
            "  libpulse-dev libpulse-mainloop-glib0 swig swig3.0\n",
            "0 upgraded, 4 newly installed, 0 to remove and 34 not upgraded.\n",
            "Need to get 1,204 kB of archives.\n",
            "After this operation, 6,540 kB of additional disk space will be used.\n",
            "Get:1 http://archive.ubuntu.com/ubuntu bionic-updates/main amd64 libpulse-mainloop-glib0 amd64 1:11.1-1ubuntu7.11 [22.1 kB]\n",
            "Get:2 http://archive.ubuntu.com/ubuntu bionic-updates/main amd64 libpulse-dev amd64 1:11.1-1ubuntu7.11 [81.5 kB]\n",
            "Get:3 http://archive.ubuntu.com/ubuntu bionic/universe amd64 swig3.0 amd64 3.0.12-1 [1,094 kB]\n",
            "Get:4 http://archive.ubuntu.com/ubuntu bionic/universe amd64 swig amd64 3.0.12-1 [6,460 B]\n",
            "Fetched 1,204 kB in 0s (9,547 kB/s)\n",
            "Selecting previously unselected package libpulse-mainloop-glib0:amd64.\n",
            "(Reading database ... 160706 files and directories currently installed.)\n",
            "Preparing to unpack .../libpulse-mainloop-glib0_1%3a11.1-1ubuntu7.11_amd64.deb ...\n",
            "Unpacking libpulse-mainloop-glib0:amd64 (1:11.1-1ubuntu7.11) ...\n",
            "Selecting previously unselected package libpulse-dev:amd64.\n",
            "Preparing to unpack .../libpulse-dev_1%3a11.1-1ubuntu7.11_amd64.deb ...\n",
            "Unpacking libpulse-dev:amd64 (1:11.1-1ubuntu7.11) ...\n",
            "Selecting previously unselected package swig3.0.\n",
            "Preparing to unpack .../swig3.0_3.0.12-1_amd64.deb ...\n",
            "Unpacking swig3.0 (3.0.12-1) ...\n",
            "Selecting previously unselected package swig.\n",
            "Preparing to unpack .../swig_3.0.12-1_amd64.deb ...\n",
            "Unpacking swig (3.0.12-1) ...\n",
            "Setting up libpulse-mainloop-glib0:amd64 (1:11.1-1ubuntu7.11) ...\n",
            "Setting up libpulse-dev:amd64 (1:11.1-1ubuntu7.11) ...\n",
            "Setting up swig3.0 (3.0.12-1) ...\n",
            "Setting up swig (3.0.12-1) ...\n",
            "Processing triggers for man-db (2.8.3-2ubuntu0.1) ...\n",
            "Processing triggers for libc-bin (2.27-3ubuntu1.2) ...\n",
            "/sbin/ldconfig.real: /usr/local/lib/python3.7/dist-packages/ideep4py/lib/libmkldnn.so.0 is not a symbolic link\n",
            "\n"
          ],
          "name": "stdout"
        }
      ]
    },
    {
      "cell_type": "code",
      "metadata": {
        "id": "bupH6mh-WeIL",
        "colab": {
          "base_uri": "https://localhost:8080/"
        },
        "outputId": "6f37f64b-d126-4c0e-efdd-51bdbf9fa42c"
      },
      "source": [
        "pip install SpeechRecognition"
      ],
      "execution_count": null,
      "outputs": [
        {
          "output_type": "stream",
          "text": [
            "Collecting SpeechRecognition\n",
            "  Downloading SpeechRecognition-3.8.1-py2.py3-none-any.whl (32.8 MB)\n",
            "\u001b[K     |████████████████████████████████| 32.8 MB 47 kB/s \n",
            "\u001b[?25hInstalling collected packages: SpeechRecognition\n",
            "Successfully installed SpeechRecognition-3.8.1\n",
            "\u001b[33mWARNING: Running pip as root will break packages and permissions. You should install packages reliably by using venv: https://pip.pypa.io/warnings/venv\u001b[0m\n"
          ],
          "name": "stdout"
        }
      ]
    },
    {
      "cell_type": "code",
      "metadata": {
        "id": "teNwtrhnv4qs",
        "colab": {
          "base_uri": "https://localhost:8080/"
        },
        "outputId": "a2e78580-cfa7-479f-dc6a-20359f0b14f6"
      },
      "source": [
        "pip install moviepy"
      ],
      "execution_count": null,
      "outputs": [
        {
          "output_type": "stream",
          "text": [
            "Requirement already satisfied: moviepy in /usr/local/lib/python3.7/dist-packages (0.2.3.5)\n",
            "Requirement already satisfied: imageio<3.0,>=2.1.2 in /usr/local/lib/python3.7/dist-packages (from moviepy) (2.4.1)\n",
            "Requirement already satisfied: numpy in /usr/local/lib/python3.7/dist-packages (from moviepy) (1.19.5)\n",
            "Requirement already satisfied: tqdm<5.0,>=4.11.2 in /usr/local/lib/python3.7/dist-packages (from moviepy) (4.41.1)\n",
            "Requirement already satisfied: decorator<5.0,>=4.0.2 in /usr/local/lib/python3.7/dist-packages (from moviepy) (4.4.2)\n",
            "Requirement already satisfied: pillow in /usr/local/lib/python3.7/dist-packages (from imageio<3.0,>=2.1.2->moviepy) (7.1.2)\n",
            "\u001b[33mWARNING: Running pip as root will break packages and permissions. You should install packages reliably by using venv: https://pip.pypa.io/warnings/venv\u001b[0m\n"
          ],
          "name": "stdout"
        }
      ]
    },
    {
      "cell_type": "code",
      "metadata": {
        "id": "tLLetMUY6R-g",
        "colab": {
          "base_uri": "https://localhost:8080/"
        },
        "outputId": "acc1e129-749d-45a6-f2da-ea8fb151eba7"
      },
      "source": [
        "pip install pydub"
      ],
      "execution_count": null,
      "outputs": [
        {
          "output_type": "stream",
          "text": [
            "Collecting pydub\n",
            "  Downloading pydub-0.25.1-py2.py3-none-any.whl (32 kB)\n",
            "Installing collected packages: pydub\n",
            "Successfully installed pydub-0.25.1\n",
            "\u001b[33mWARNING: Running pip as root will break packages and permissions. You should install packages reliably by using venv: https://pip.pypa.io/warnings/venv\u001b[0m\n"
          ],
          "name": "stdout"
        }
      ]
    },
    {
      "cell_type": "code",
      "metadata": {
        "id": "98YoWFc2i3KX",
        "colab": {
          "base_uri": "https://localhost:8080/"
        },
        "outputId": "d5d96163-d7a1-4489-879e-b83af919ce78"
      },
      "source": [
        "pip install ffmpeg-python"
      ],
      "execution_count": null,
      "outputs": [
        {
          "output_type": "stream",
          "text": [
            "Collecting ffmpeg-python\n",
            "  Downloading ffmpeg_python-0.2.0-py3-none-any.whl (25 kB)\n",
            "Requirement already satisfied: future in /usr/local/lib/python3.7/dist-packages (from ffmpeg-python) (0.16.0)\n",
            "Installing collected packages: ffmpeg-python\n",
            "Successfully installed ffmpeg-python-0.2.0\n",
            "\u001b[33mWARNING: Running pip as root will break packages and permissions. You should install packages reliably by using venv: https://pip.pypa.io/warnings/venv\u001b[0m\n"
          ],
          "name": "stdout"
        }
      ]
    },
    {
      "cell_type": "code",
      "metadata": {
        "id": "J22Ly7K6P5R1",
        "colab": {
          "base_uri": "https://localhost:8080/"
        },
        "outputId": "2e71b4fb-2142-425c-c7e2-24695502f8c6"
      },
      "source": [
        "pip install python-Levenshtein"
      ],
      "execution_count": null,
      "outputs": [
        {
          "output_type": "stream",
          "text": [
            "Collecting python-Levenshtein\n",
            "  Downloading python-Levenshtein-0.12.2.tar.gz (50 kB)\n",
            "\u001b[?25l\r\u001b[K     |██████▌                         | 10 kB 28.8 MB/s eta 0:00:01\r\u001b[K     |█████████████                   | 20 kB 33.9 MB/s eta 0:00:01\r\u001b[K     |███████████████████▌            | 30 kB 40.0 MB/s eta 0:00:01\r\u001b[K     |██████████████████████████      | 40 kB 22.5 MB/s eta 0:00:01\r\u001b[K     |████████████████████████████████| 50 kB 3.3 MB/s \n",
            "\u001b[?25hRequirement already satisfied: setuptools in /usr/local/lib/python3.7/dist-packages (from python-Levenshtein) (56.2.0)\n",
            "Building wheels for collected packages: python-Levenshtein\n",
            "  Building wheel for python-Levenshtein (setup.py) ... \u001b[?25l\u001b[?25hdone\n",
            "  Created wheel for python-Levenshtein: filename=python_Levenshtein-0.12.2-cp37-cp37m-linux_x86_64.whl size=149855 sha256=70ef4afc8dd2379087cc73ab721bd422da4f77ba48f47925be80636c6cc5e418\n",
            "  Stored in directory: /root/.cache/pip/wheels/05/5f/ca/7c4367734892581bb5ff896f15027a932c551080b2abd3e00d\n",
            "Successfully built python-Levenshtein\n",
            "Installing collected packages: python-Levenshtein\n",
            "Successfully installed python-Levenshtein-0.12.2\n",
            "\u001b[33mWARNING: Running pip as root will break packages and permissions. You should install packages reliably by using venv: https://pip.pypa.io/warnings/venv\u001b[0m\n"
          ],
          "name": "stdout"
        }
      ]
    },
    {
      "cell_type": "code",
      "metadata": {
        "id": "xR68lJttFiPT",
        "colab": {
          "base_uri": "https://localhost:8080/"
        },
        "outputId": "70de1439-64d9-439f-f33d-7a89cf65150c"
      },
      "source": [
        "pip install Distance"
      ],
      "execution_count": null,
      "outputs": [
        {
          "output_type": "stream",
          "text": [
            "Collecting Distance\n",
            "  Downloading Distance-0.1.3.tar.gz (180 kB)\n",
            "\u001b[?25l\r\u001b[K     |█▉                              | 10 kB 16.0 MB/s eta 0:00:01\r\u001b[K     |███▋                            | 20 kB 20.2 MB/s eta 0:00:01\r\u001b[K     |█████▌                          | 30 kB 21.8 MB/s eta 0:00:01\r\u001b[K     |███████▎                        | 40 kB 25.4 MB/s eta 0:00:01\r\u001b[K     |█████████                       | 51 kB 22.6 MB/s eta 0:00:01\r\u001b[K     |███████████                     | 61 kB 12.9 MB/s eta 0:00:01\r\u001b[K     |████████████▊                   | 71 kB 13.0 MB/s eta 0:00:01\r\u001b[K     |██████████████▌                 | 81 kB 13.9 MB/s eta 0:00:01\r\u001b[K     |████████████████▍               | 92 kB 13.1 MB/s eta 0:00:01\r\u001b[K     |██████████████████▏             | 102 kB 13.1 MB/s eta 0:00:01\r\u001b[K     |████████████████████            | 112 kB 13.1 MB/s eta 0:00:01\r\u001b[K     |█████████████████████▉          | 122 kB 13.1 MB/s eta 0:00:01\r\u001b[K     |███████████████████████▋        | 133 kB 13.1 MB/s eta 0:00:01\r\u001b[K     |█████████████████████████▌      | 143 kB 13.1 MB/s eta 0:00:01\r\u001b[K     |███████████████████████████▎    | 153 kB 13.1 MB/s eta 0:00:01\r\u001b[K     |█████████████████████████████   | 163 kB 13.1 MB/s eta 0:00:01\r\u001b[K     |███████████████████████████████ | 174 kB 13.1 MB/s eta 0:00:01\r\u001b[K     |████████████████████████████████| 180 kB 13.1 MB/s \n",
            "\u001b[?25hBuilding wheels for collected packages: Distance\n",
            "  Building wheel for Distance (setup.py) ... \u001b[?25l\u001b[?25hdone\n",
            "  Created wheel for Distance: filename=Distance-0.1.3-py3-none-any.whl size=16260 sha256=a97b77959b872eea3a587afc6d9df468e4d80c60aba38764a50b056461bbe57b\n",
            "  Stored in directory: /root/.cache/pip/wheels/b2/10/1b/96fca621a1be378e2fe104cfb0d160bb6cdf3d04a3d35266cc\n",
            "Successfully built Distance\n",
            "Installing collected packages: Distance\n",
            "Successfully installed Distance-0.1.3\n",
            "\u001b[33mWARNING: Running pip as root will break packages and permissions. You should install packages reliably by using venv: https://pip.pypa.io/warnings/venv\u001b[0m\n"
          ],
          "name": "stdout"
        }
      ]
    },
    {
      "cell_type": "code",
      "metadata": {
        "id": "RfhLc3I6b3Vg",
        "colab": {
          "base_uri": "https://localhost:8080/"
        },
        "outputId": "22f62a3f-940e-445d-94be-117db54ca6d2"
      },
      "source": [
        "pip install fuzzywuzzy"
      ],
      "execution_count": null,
      "outputs": [
        {
          "output_type": "stream",
          "text": [
            "Collecting fuzzywuzzy\n",
            "  Downloading fuzzywuzzy-0.18.0-py2.py3-none-any.whl (18 kB)\n",
            "Installing collected packages: fuzzywuzzy\n",
            "Successfully installed fuzzywuzzy-0.18.0\n",
            "\u001b[33mWARNING: Running pip as root will break packages and permissions. You should install packages reliably by using venv: https://pip.pypa.io/warnings/venv\u001b[0m\n"
          ],
          "name": "stdout"
        }
      ]
    },
    {
      "cell_type": "markdown",
      "metadata": {
        "id": "XkHGxnswIqsJ"
      },
      "source": [
        "Presentation Pace Testing"
      ]
    },
    {
      "cell_type": "code",
      "metadata": {
        "id": "CkBUOkA-EMum",
        "colab": {
          "base_uri": "https://localhost:8080/"
        },
        "outputId": "9c68ba50-1021-4e9d-caac-e78a20e475e2"
      },
      "source": [
        "import speech_recognition as sr\n",
        "import numpy\n",
        "from moviepy.editor import *\n",
        "import io\n",
        "#video to audio\n",
        "#clip = VideoFileClip(\"Is Your Inner Genius Being Heard Find Your Fire Pete Lonton  TEDxDerryLondonderry.mp4\")\n",
        "#\n",
        "#clip.audio.write_audiofile(\"Audio File1.wav\")\n",
        "from os import path\n",
        "\n",
        "from pydub import AudioSegment\n",
        "from pydub.playback import play\n",
        "from pydub.silence import split_on_silence\n",
        "from fuzzywuzzy import fuzz\n",
        "from fuzzywuzzy import process\n",
        "\n",
        "for i in range(1,51):\n",
        "  subtitle = \"Subtitle \"+str(i)+\".txt\"\n",
        "  audiof = \"Audio \"+str(i)+\".wav\"\n",
        "\n",
        "  with open(subtitle, 'r') as file:\n",
        "      data = file.read().replace(\"\\n\", \" \")\n",
        "  sound = AudioSegment.from_wav(audiof)\n",
        "\n",
        "\n",
        "  chunks = split_on_silence(sound, \n",
        "      # must be silent for at least half a second\n",
        "      min_silence_len=500,\n",
        "\n",
        "      # consider it silent if quieter than -16 dBFS\n",
        "      silence_thresh=-50\n",
        "  )\n",
        "\n",
        "  r = sr.Recognizer()\n",
        "  ans=\"\"\n",
        "  print(len(chunks))\n",
        "  words=1\n",
        "  for x in chunks:\n",
        "    b = io.BytesIO()\n",
        "    x.export(b,format='wav')\n",
        "    b.seek(0)\n",
        "    with sr.AudioFile(b) as source:\n",
        "        audio = r.record(source)  # read the entire audio file\n",
        "    try:\n",
        "        # for testing purposes, we're just using the default API key\n",
        "        # to use another API key, use `r.recognize_google(audio, key=\"GOOGLE_SPEECH_RECOGNITION_API_KEY\")`\n",
        "        # instead of `r.recognize_google(audio)`\n",
        "        ans += \" \"+ r.recognize_google(audio,language='en-US')\n",
        "        for x in ans:\n",
        "          if (x.isspace()) == True: \n",
        "            words+=1\n",
        "    except sr.UnknownValueError:\n",
        "      continue\n",
        "    except sr.RequestError as e:\n",
        "        print(\"Could not request results from Google Speech Recognition service; {0}\".format(e))\n",
        "\n",
        "  partial_score = fuzz.ratio(data, ans)\n",
        "  token_score = fuzz.token_set_ratio(data, ans)\n",
        "  print(i, \" :  \",partial_score ,\" \", token_score)\n",
        "  subtitle=subtitle.replace(str(i),str(i+1))\n",
        "  audiof=audiof.replace(str(i),str(i+1))\n",
        "#15  :   89   93\n",
        "#15  :   91   96"
      ],
      "execution_count": null,
      "outputs": [
        {
          "output_type": "stream",
          "text": [
            "169\n",
            "1  :   90   94\n",
            "144\n",
            "2  :   88   92\n",
            "111\n",
            "3  :   89   97\n",
            "106\n",
            "4  :   89   93\n",
            "74\n",
            "5  :   91   94\n",
            "159\n",
            "6  :   95   95\n",
            "145\n",
            "7  :   89   95\n",
            "70\n",
            "8  :   88   98\n",
            "158\n",
            "9  :   91   94\n",
            "219\n",
            "10  :   83   86\n",
            "66\n",
            "11  :   83   93\n",
            "70\n",
            "12  :   75   94\n",
            "189\n",
            "13  :   89   96\n",
            "96\n",
            "14  :   90   93\n",
            "112\n",
            "15  :   92   96\n",
            "73\n",
            "16  :   92   96\n",
            "100\n",
            "17  :   93   97\n",
            "114\n",
            "18  :   92   95\n",
            "48\n",
            "19  :   71   86\n",
            "153\n",
            "20  :   92   95\n",
            "41\n",
            "21  :   87   98\n",
            "107\n",
            "22  :   87   97\n",
            "19\n",
            "23  :   95   99\n",
            "202\n",
            "24  :   95   96\n",
            "211\n",
            "25  :   89   94\n",
            "122\n",
            "Could not request results from Google Speech Recognition service; recognition request failed: Bad Request\n",
            "26  :   66   94\n",
            "67\n",
            "27  :   70   85\n",
            "214\n",
            "28  :   90   95\n",
            "161\n",
            "29  :   85   94\n",
            "126\n",
            "30  :   47   86\n",
            "273\n",
            "31  :   81   88\n",
            "29\n",
            "32  :   86   89\n",
            "2\n",
            "Could not request results from Google Speech Recognition service; recognition connection failed: [Errno 32] Broken pipe\n",
            "33  :   0   0\n",
            "166\n",
            "34  :   90   93\n",
            "82\n",
            "35  :   85   91\n",
            "2\n",
            "Could not request results from Google Speech Recognition service; recognition connection failed: [Errno 32] Broken pipe\n",
            "36  :   0   0\n",
            "138\n",
            "37  :   89   94\n",
            "266\n",
            "38  :   90   95\n",
            "71\n",
            "39  :   72   97\n",
            "101\n",
            "40  :   83   97\n",
            "139\n",
            "41  :   94   96\n",
            "180\n",
            "42  :   88   93\n",
            "28\n",
            "Could not request results from Google Speech Recognition service; recognition request failed: Bad Request\n",
            "43  :   79   99\n",
            "185\n",
            "44  :   94   97\n",
            "49\n",
            "45  :   88   91\n",
            "43\n",
            "46  :   80   96\n",
            "185\n",
            "47  :   91   96\n",
            "196\n",
            "48  :   84   90\n",
            "126\n",
            "49  :   94   96\n",
            "145\n",
            "50  :   87   91\n"
          ],
          "name": "stdout"
        }
      ]
    },
    {
      "cell_type": "markdown",
      "metadata": {
        "id": "-LXhFfU5JcJZ"
      },
      "source": [
        "Presentation Pace"
      ]
    },
    {
      "cell_type": "code",
      "metadata": {
        "id": "oaxvOFbAOxxP"
      },
      "source": [
        "import speech_recognition as sr\n",
        "import numpy\n",
        "import io\n",
        "from pydub import AudioSegment\n",
        "from pydub.playback import play\n",
        "from pydub.silence import split_on_silence\n",
        "#clip = mp.VideoFileClip(\"Is Your Inner Genius Being Heard Find Your Fire Pete Lonton  TEDxDerryLondonderry.mp4\")\n",
        "#clip.audio.write_audiofile(\"Audio 1.wav\")\n",
        "\n",
        "# obtain path to \"english.wav\" in the same folder as this script\n",
        "\n",
        "from os import path\n",
        "AUDIO_FILE = \"Audio 1.wav\"\n",
        "# AUDIO_FILE = path.join(path.dirname(path.realpath(__file__)), \"french.aiff\")\n",
        "# AUDIO_FILE = path.join(path.dirname(path.realpath(__file__)), \"chinese.flac\")\n",
        "#\n",
        "# # use the audio file as the audio source\n",
        "# pDetection = aubio.pitch(\"default\", 2048,2048//2, 44100)\n",
        " # Set unit.\n",
        "# pDetection.set_unit(\"Hz\")\n",
        "# pDetection.set_silence(-40)\n",
        "\n",
        "sound = AudioSegment.from_wav(AUDIO_FILE)\n",
        "\n",
        "chunks = split_on_silence(sound, \n",
        "    # must be silent for at least half a second\n",
        "    min_silence_len=500,\n",
        "\n",
        "    # consider it silent if quieter than -16 dBFS\n",
        "    silence_thresh=-50\n",
        ")\n",
        "\n",
        "r = sr.Recognizer()\n",
        "ans=\"\"\n",
        "words=1\n",
        "for x in chunks:\n",
        "  b = io.BytesIO()\n",
        "  x.export(b,format='wav')\n",
        "  b.seek(0)\n",
        "  with sr.AudioFile(b) as source:\n",
        "      audio = r.record(source)  # read the entire audio file\n",
        "  try:\n",
        "      # for testing purposes, we're just using the default API key\n",
        "      # to use another API key, use `r.recognize_google(audio, key=\"GOOGLE_SPEECH_RECOGNITION_API_KEY\")`\n",
        "      # instead of `r.recognize_google(audio)`\n",
        "      ans += \" \"+ r.recognize_google(audio,language='en-US')\n",
        "      words+=len(ans.split())\n",
        "  except sr.UnknownValueError:\n",
        "    continue\n",
        "  except sr.RequestError as e:\n",
        "      print(\"Could not request results from Google Speech Recognition service; {0}\".format(e))\n",
        "\n"
      ],
      "execution_count": 50,
      "outputs": []
    },
    {
      "cell_type": "markdown",
      "metadata": {
        "id": "yhJOnTGZIZKJ"
      },
      "source": [
        "Adequate Voice OUTPUT"
      ]
    },
    {
      "cell_type": "code",
      "metadata": {
        "id": "8dyl6tUB3hxv",
        "colab": {
          "base_uri": "https://localhost:8080/",
          "height": 297
        },
        "outputId": "c3d64d99-6e13-4cdd-a28b-d8488d77cf3e"
      },
      "source": [
        "import librosa as lp\n",
        "import matplotlib.pyplot as plt\n",
        "import numpy as np\n",
        "y,freq=lp.load(r\"Audio 1.wav\")\n",
        "\n",
        "#print(y,freq)\n",
        "#print(max(y))\n",
        "time = np.arange(0,len(y))/freq\n",
        "#print(len(time))\n",
        "fig, ax = plt.subplots()\n",
        "ax.plot(time,y)\n",
        "ax.set(xlabel='Time(s)',ylabel='sound amplitude')\n",
        "plt.show()\n",
        "lp.get_duration(y,freq)\n",
        "\n",
        "#print(len(y))\n",
        "\n",
        "# Thresh hold \n",
        "count=0\n",
        "arr= y <= max(y)*(3/4)\n",
        "for x in arr:\n",
        "  if(x):\n",
        "    count+=x\n",
        "print(\"count: \"+str(count/len(y)*100))"
      ],
      "execution_count": 51,
      "outputs": [
        {
          "output_type": "display_data",
          "data": {
            "image/png": "[encoded data removed]",
            "text/plain": [
              "<Figure size 432x288 with 1 Axes>"
            ]
          },
          "metadata": {
            "tags": [],
            "needs_background": "light"
          }
        },
        {
          "output_type": "stream",
          "text": [
            "count: 99.9604466097637\n"
          ],
          "name": "stdout"
        }
      ]
    },
    {
      "cell_type": "markdown",
      "metadata": {
        "id": "nByhvjHUieBY"
      },
      "source": [
        "Presentation pace OUTPUT"
      ]
    },
    {
      "cell_type": "code",
      "metadata": {
        "id": "eHwJIgn5QMp9",
        "colab": {
          "base_uri": "https://localhost:8080/"
        },
        "outputId": "f695f327-d7a4-4000-d6d5-4a898d2ecc0a"
      },
      "source": [
        "import math\n",
        "# represents a signal in the time-frequency domain by computing discrete Fourier transforms (DFT) over short overlapping windows. \n",
        "# This function returns a complex-valued matrix D such that.\n",
        "S = lp.stft(y)\n",
        "# np.abs(D[f, t]) is the magnitude of frequency bin f at frame t, and\n",
        "\n",
        "# allDB = lp.amplitude_to_db(np.abs(S),ref=np.max)\n",
        "allDB = lp.amplitude_to_db(np.abs(S))\n",
        "test = lp.effects.split(y, top_db=20)\n",
        "yt, index = lp.effects.trim(y,top_db=20)\n",
        "audio_time_without_silance = math.ceil(lp.get_duration(yt))\n",
        "average = words/audio_time_without_silance\n",
        "print(str(math.ceil(average))+ \" WPM\")\n",
        "if (average>=150):\n",
        "  print(\"You talking too fast.\")\n",
        "elif (average>=120 and average <=150):\n",
        "  print(\"Perfect WPM.\")\n",
        "elif (average <120):\n",
        "  print(\"You talking very slow.\")"
      ],
      "execution_count": 49,
      "outputs": [
        {
          "output_type": "stream",
          "text": [
            "134 WPM\n",
            "Perfect WPM.\n"
          ],
          "name": "stdout"
        }
      ]
    }
  ]
}